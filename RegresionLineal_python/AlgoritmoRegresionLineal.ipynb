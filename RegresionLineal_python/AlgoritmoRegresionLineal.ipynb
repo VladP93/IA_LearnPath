{
  "nbformat": 4,
  "nbformat_minor": 0,
  "metadata": {
    "colab": {
      "name": "AlgoritmoRegresionLineal.ipynb",
      "provenance": [],
      "collapsed_sections": []
    },
    "kernelspec": {
      "name": "python3",
      "display_name": "Python 3"
    }
  },
  "cells": [
    {
      "cell_type": "code",
      "metadata": {
        "id": "q6QdFCMV1Sbo"
      },
      "source": [
        "import numpy as np\n",
        "import matplotlib.pyplot as plt"
      ],
      "execution_count": 22,
      "outputs": []
    },
    {
      "cell_type": "code",
      "metadata": {
        "id": "6qNNPiAH1sRa"
      },
      "source": [
        "def estiamte_b0_b1(x, y):\n",
        "    n = np.size(x)\n",
        "\n",
        "    m_x, m_y = np.mean(x), np.mean(y)\n",
        "    sumatoria_xy = np.sum((x - m_x) * (y - m_y))\n",
        "    sumatoria_xx = np.sum(x * (x - m_x))\n",
        "\n",
        "    # Coeficiente de regresión\n",
        "    b_1 = sumatoria_xy / sumatoria_xx\n",
        "    b_0 = m_y - b_1 * m_x\n",
        "\n",
        "    return (b_0, b_1)\n"
      ],
      "execution_count": 23,
      "outputs": []
    },
    {
      "cell_type": "code",
      "metadata": {
        "id": "QcakGNE13Iqr"
      },
      "source": [
        "# Graficando\n",
        "def plot_regresion(x,y,b):\n",
        "    plt.scatter(x, y, color=\"b\", marker=\"o\", s=30)\n",
        "\n",
        "    y_pred = b[0] + b[1]*x\n",
        "    plt.plot(x,y_pred, color=\"r\")\n",
        "    plt.xlabel('x-Ind')\n",
        "    plt.ylabel('y-Dep')\n",
        "\n",
        "    plt.show()"
      ],
      "execution_count": 24,
      "outputs": []
    },
    {
      "cell_type": "code",
      "metadata": {
        "id": "LiuOmpZk44dW",
        "outputId": "63b49967-b1a2-488f-f9ad-6872dafc8a73",
        "colab": {
          "base_uri": "https://localhost:8080/",
          "height": 296
        }
      },
      "source": [
        "def main():\n",
        "    # datos (dataset)\n",
        "    x = np.array([1,2,3,4,5])\n",
        "    y = np.array([2,3,5,6,5])\n",
        "\n",
        "    b = estiamte_b0_b1(x, y)\n",
        "    print(\"Los valores son: b_0={}, b1={}\".format(b[0] , b[1]))\n",
        "\n",
        "    plot_regresion(x, y, b)\n",
        "\n",
        "if __name__==\"__main__\":\n",
        "  main()"
      ],
      "execution_count": 25,
      "outputs": [
        {
          "output_type": "stream",
          "text": [
            "Los valores son: b_0=1.5, b1=0.9\n"
          ],
          "name": "stdout"
        },
        {
          "output_type": "display_data",
          "data": {
            "image/png": "[encoded data removed]",
            "text/plain": [
              "<Figure size 432x288 with 1 Axes>"
            ]
          },
          "metadata": {
            "tags": [],
            "needs_background": "light"
          }
        }
      ]
    },
    {
      "cell_type": "code",
      "metadata": {
        "id": "cC119-bx53MW"
      },
      "source": [
        ""
      ],
      "execution_count": null,
      "outputs": []
    }
  ]
}